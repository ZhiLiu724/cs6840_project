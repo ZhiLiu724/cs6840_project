{
 "cells": [
  {
   "cell_type": "markdown",
   "metadata": {},
   "source": [
    "## New simulation setup\n",
    "\n",
    "We assume that neither lender knows the fraction of H-type borrowers in the population, or how the signals are generated. They simply employ some learning algorithm, based on the utility of some action, and learn the best strategy.\n",
    "\n",
    "The market consists of a fraction $\\theta$ of H-type borrowers, and $1-\\theta$ of L-type borrowers. There are two lenders, 1 and 2, and each of them will receive a signal from each borrower. We let $p_{s_1, s_2}^{t}$ denote the probability that a borrower of true type $t\\in \\{L, H\\}$ will give a signal of $s_1$ to lender 1, and $s_2$ to lender $s_1$, where $s_1,s_2\\in \\{l, h\\}$."
   ]
  },
  {
   "cell_type": "code",
   "execution_count": 1,
   "metadata": {},
   "outputs": [],
   "source": [
    "import numpy as np\n",
    "import matplotlib.pyplot as plt\n",
    "from tqdm import tqdm\n",
    "import itertools"
   ]
  },
  {
   "cell_type": "markdown",
   "metadata": {},
   "source": [
    "### Constants\n",
    "\n",
    "Market size $N$, fraction of H-type borrower $\\theta$, and probabilities of signal generation.\n",
    "\n",
    "$$\n",
    "P^H = \\left[\\begin{array}{cc}\n",
    "p_{HH}^H, p_{HL}^H\\\\\n",
    "p_{LH}^H, p_{LL}^H\n",
    "\\end{array}\\right]\n",
    "$$\n",
    "\n",
    "$$\n",
    "P^L = \\left[\\begin{array}{cc}\n",
    "p_{HH}^L, p_{HL}^L\\\\\n",
    "p_{LH}^L, p_{LL}^L\n",
    "\\end{array}\\right]\n",
    "$$"
   ]
  },
  {
   "cell_type": "code",
   "execution_count": null,
   "metadata": {},
   "outputs": [],
   "source": [
    "N = 10_000\n",
    "Theta = 0.9\n",
    "Borrower_types = ['H', 'L']\n",
    "Signals = ['hh', 'hl', 'lh', 'll']\n",
    "PH = np.array([[0.90, 0.03], \n",
    "               [0.02, 0.05]])\n",
    "PL = np.array([[0.10, 0.06],\n",
    "               [0.04, 0.80]])\n",
    "ph_1d, pl_1d = PH.reshape(-1), PL.reshape(-1)\n",
    "assert(PH.sum() == 1); assert(PL.sum() == 1)"
   ]
  },
  {
   "cell_type": "markdown",
   "metadata": {},
   "source": [
    "### Generating borrowers with true types"
   ]
  },
  {
   "cell_type": "code",
   "execution_count": 3,
   "metadata": {},
   "outputs": [
    {
     "data": {
      "text/plain": [
       "(array(['H', 'L'], dtype='<U1'), array([900198,  99802]))"
      ]
     },
     "execution_count": 3,
     "metadata": {},
     "output_type": "execute_result"
    }
   ],
   "source": [
    "Borrowers = np.random.choice(Borrower_types, size=N, p=[Theta, 1-Theta])\n",
    "np.unique(Borrowers, return_counts=True)"
   ]
  },
  {
   "cell_type": "markdown",
   "metadata": {},
   "source": [
    "### Generating signals"
   ]
  },
  {
   "cell_type": "code",
   "execution_count": 4,
   "metadata": {},
   "outputs": [],
   "source": [
    "def signal(true_type, PH, PL):\n",
    "    if true_type == 'H':\n",
    "        return np.random.choice(Signals, p=PH)\n",
    "    elif true_type == 'L':\n",
    "        return np.random.choice(Signals, p=PL)\n",
    "    else:\n",
    "        raise ValueError"
   ]
  },
  {
   "cell_type": "code",
   "execution_count": 5,
   "metadata": {},
   "outputs": [],
   "source": [
    "signals = [signal(b, ph_1d, pl_1d) for b in Borrowers]"
   ]
  },
  {
   "cell_type": "code",
   "execution_count": 6,
   "metadata": {},
   "outputs": [],
   "source": [
    "lender1_signals = [s[0] for s in signals]\n",
    "lender2_signals = [s[1] for s in signals]"
   ]
  },
  {
   "cell_type": "code",
   "execution_count": 7,
   "metadata": {},
   "outputs": [
    {
     "data": {
      "text/plain": [
       "((array(['h', 'l'], dtype='<U1'), array([853234, 146766])),\n",
       " (array(['h', 'l'], dtype='<U1'), array([842311, 157689])))"
      ]
     },
     "execution_count": 7,
     "metadata": {},
     "output_type": "execute_result"
    }
   ],
   "source": [
    "np.unique(lender1_signals, return_counts=True), np.unique(lender2_signals, return_counts=True)"
   ]
  },
  {
   "cell_type": "markdown",
   "metadata": {},
   "source": [
    "### Wrapper"
   ]
  },
  {
   "cell_type": "code",
   "execution_count": 8,
   "metadata": {},
   "outputs": [],
   "source": [
    "def gen_signals_for_one_round(N_borrowers, Theta, ph_1d, pl_1d):\n",
    "    borrowers = np.random.choice(Borrower_types, size=N_borrowers, p=[Theta, 1-Theta])\n",
    "    signals = [signal(b, ph_1d, pl_1d) for b in borrowers]\n",
    "    lender1_signals = [s[0] for s in signals]\n",
    "    lender2_signals = [s[1] for s in signals]\n",
    "    return borrowers, lender1_signals, lender2_signals"
   ]
  },
  {
   "cell_type": "code",
   "execution_count": 9,
   "metadata": {},
   "outputs": [],
   "source": [
    "# br, l1, l2 = gen_signals_for_one_round()"
   ]
  },
  {
   "cell_type": "code",
   "execution_count": 10,
   "metadata": {},
   "outputs": [],
   "source": [
    "# np.unique(br, return_counts=True), np.unique(l1, return_counts=True), np.unique(l2, return_counts=True)"
   ]
  },
  {
   "cell_type": "code",
   "execution_count": 11,
   "metadata": {},
   "outputs": [],
   "source": [
    "# print('Lender 1 expected number of h signals', N*Theta*PH[0].sum() + N*(1-Theta)*PL[0].sum())\n",
    "# print('Lender 2 expected number of h signals', N*Theta*PH[:,0].sum() + N*(1-Theta)*PL[:,0].sum())"
   ]
  },
  {
   "cell_type": "markdown",
   "metadata": {},
   "source": [
    "## Competition\n",
    "\n",
    "I am assuming that after each round, we give both agents the exact utility they would have got if they had offered all l-signal/h-signal borrowers some interest rate $r'$. \n",
    "\n",
    "Both players keep track of the cumulative utility, and play follow the perturbed leader."
   ]
  },
  {
   "cell_type": "code",
   "execution_count": 12,
   "metadata": {},
   "outputs": [
    {
     "data": {
      "text/plain": [
       "array([0.  , 0.02, 0.04, 0.06, 0.08, 0.1 , 0.12, 0.14, 0.16, 0.18, 0.2 ])"
      ]
     },
     "execution_count": 12,
     "metadata": {},
     "output_type": "execute_result"
    }
   ],
   "source": [
    "rs = np.linspace(0, 0.2, 11)\n",
    "# we assume the 0 interest rate is refusal\n",
    "rs"
   ]
  },
  {
   "cell_type": "code",
   "execution_count": 13,
   "metadata": {},
   "outputs": [],
   "source": [
    "l1_cum_util = {\n",
    "    'h': np.zeros_like(rs),\n",
    "    'l': np.zeros_like(rs)\n",
    "}\n",
    "l2_cum_util = {\n",
    "    'h': np.zeros_like(rs),\n",
    "    'l': np.zeros_like(rs)\n",
    "}"
   ]
  },
  {
   "cell_type": "markdown",
   "metadata": {},
   "source": [
    "### Simulatin one round\n",
    "\n",
    "both lenders make offers, then we calculate the utility on both sides"
   ]
  },
  {
   "cell_type": "code",
   "execution_count": 14,
   "metadata": {},
   "outputs": [],
   "source": [
    "def make_offer(cum_util, rs, normal_param = 0.8):\n",
    "    n_choices = len(rs)\n",
    "    perturbed_cum_util = cum_util + np.random.normal(0, normal_param, size=n_choices)\n",
    "    return rs[np.argmax(perturbed_cum_util)]"
   ]
  },
  {
   "cell_type": "markdown",
   "metadata": {},
   "source": [
    "#### Making offers"
   ]
  },
  {
   "cell_type": "code",
   "execution_count": 15,
   "metadata": {},
   "outputs": [],
   "source": [
    "# br, l1, l2 = gen_signals_for_one_round()"
   ]
  },
  {
   "cell_type": "code",
   "execution_count": null,
   "metadata": {},
   "outputs": [],
   "source": [
    "# l1_offers = []\n",
    "# l2_offers = []"
   ]
  },
  {
   "cell_type": "code",
   "execution_count": 18,
   "metadata": {},
   "outputs": [],
   "source": [
    "# for br_id in range(N):\n",
    "#     l1_offers.append(make_offer(\n",
    "#         l1_cum_util[l1[br_id]], rs\n",
    "#     ))\n",
    "#     l2_offers.append(make_offer(\n",
    "#         l2_cum_util[l2[br_id]], rs\n",
    "#     ))"
   ]
  },
  {
   "cell_type": "markdown",
   "metadata": {},
   "source": [
    "### Calculate the full utility given the opponent's offers"
   ]
  },
  {
   "cell_type": "code",
   "execution_count": 19,
   "metadata": {},
   "outputs": [],
   "source": [
    "def update_cum_util(\n",
    "    cum_util,\n",
    "    lender_signal,\n",
    "    opponent_offer,\n",
    "    br,\n",
    "    rs=rs,\n",
    "):\n",
    "    lender_signal = np.array(lender_signal)\n",
    "    opponent_offer = np.array(opponent_offer)\n",
    "    br = np.array(br)\n",
    "    \n",
    "    for r in rs:\n",
    "        if r == 0:\n",
    "            continue\n",
    "        \n",
    "        h_mask = lender_signal == 'h'\n",
    "        l_mask = lender_signal == 'l'\n",
    "        \n",
    "        h_borrowers = br[h_mask]\n",
    "        l_borrowers = br[l_mask]\n",
    "        \n",
    "        h_opponent_offers = opponent_offer[h_mask]\n",
    "        l_opponent_offers = opponent_offer[l_mask]\n",
    "        \n",
    "        h_util = np.where((r < h_opponent_offers) | (h_opponent_offers == 0), np.where(h_borrowers == 'H', r, -1), 0)\n",
    "        l_util = np.where((r < l_opponent_offers) | (l_opponent_offers == 0), np.where(l_borrowers == 'H', r, -1), 0)\n",
    "        \n",
    "        cum_h_util = np.sum(h_util)\n",
    "        cum_l_util = np.sum(l_util)\n",
    "        \n",
    "        cum_h_count = np.sum(h_mask)\n",
    "        cum_l_count = np.sum(l_mask)\n",
    "        \n",
    "        if cum_h_count > 0:\n",
    "            cum_util['h'][np.where(rs == r)] += cum_h_util / cum_h_count\n",
    "        if cum_l_count > 0:\n",
    "            cum_util['l'][np.where(rs == r)] += cum_l_util / cum_l_count\n",
    "    \n",
    "    return cum_util"
   ]
  },
  {
   "cell_type": "code",
   "execution_count": 21,
   "metadata": {},
   "outputs": [],
   "source": [
    "# l1_cum_util = update_cum_util(l1_cum_util, l1, l2_offers, br)\n",
    "# l2_cum_util = update_cum_util(l2_cum_util, l2, l1_offers, br)"
   ]
  },
  {
   "cell_type": "markdown",
   "metadata": {},
   "source": [
    "### Wrapping up"
   ]
  },
  {
   "cell_type": "code",
   "execution_count": 22,
   "metadata": {},
   "outputs": [],
   "source": [
    "# reset things hers\n",
    "N_rounds = 100\n",
    "rs = np.linspace(0, 0.2, 11)\n",
    "l1_cum_util = {\n",
    "    'h': np.zeros_like(rs),\n",
    "    'l': np.zeros_like(rs)\n",
    "}\n",
    "l2_cum_util = {\n",
    "    'h': np.zeros_like(rs),\n",
    "    'l': np.zeros_like(rs)\n",
    "}"
   ]
  },
  {
   "cell_type": "code",
   "execution_count": 24,
   "metadata": {},
   "outputs": [],
   "source": [
    "# br, l1, l2 = gen_signals_for_one_round()"
   ]
  },
  {
   "cell_type": "code",
   "execution_count": 26,
   "metadata": {},
   "outputs": [],
   "source": [
    "# for round in tqdm(range(N_rounds)):\n",
    "#     l1_offers = []\n",
    "#     l2_offers = []\n",
    "#     # print out the cum utils\n",
    "#     print(l1_cum_util, '\\n', l2_cum_util)\n",
    "\n",
    "#     for br_id in range(N):\n",
    "#         l1_offers.append(make_offer(\n",
    "#             l1_cum_util[l1[br_id]], rs\n",
    "#         ))\n",
    "#         l2_offers.append(make_offer(\n",
    "#             l2_cum_util[l2[br_id]], rs\n",
    "#         ))\n",
    "\n",
    "#     l1_cum_util = update_cum_util(l1_cum_util, l1, l2_offers)\n",
    "#     l2_cum_util = update_cum_util(l2_cum_util, l2, l1_offers)"
   ]
  },
  {
   "cell_type": "code",
   "execution_count": 27,
   "metadata": {},
   "outputs": [],
   "source": [
    "# l1_h_index = np.where(np.array(l1) == 'h')\n",
    "# l1_l_index = np.where(np.array(l1) == 'l')\n",
    "# l2_h_index = np.where(np.array(l2) == 'h')\n",
    "# l2_l_index = np.where(np.array(l2) == 'l')\n",
    "# plt.hist(np.array(l1_offers)[l1_h_index], bins=20, alpha=0.5, label='Lender 1 - h offers')\n",
    "# plt.hist(np.array(l1_offers)[l1_l_index], bins=20, alpha=0.5, label='Lender 1 - l offers')\n",
    "# plt.hist(np.array(l2_offers)[l2_h_index], bins=20, alpha=0.5, label='Lender 2 - h offers')\n",
    "# plt.hist(np.array(l2_offers)[l2_l_index], bins=20, alpha=0.5, label='Lender 2 - l offers')\n",
    "# plt.xlim(0, 0.2)\n",
    "# plt.legend()\n",
    "# plt.savefig(f'plots/lender_offers_{ph_1d}_{pl_1d}.png')"
   ]
  },
  {
   "cell_type": "markdown",
   "metadata": {},
   "source": [
    "## Run for different settings"
   ]
  },
  {
   "cell_type": "code",
   "execution_count": 31,
   "metadata": {},
   "outputs": [],
   "source": [
    "phs = [\n",
    "    np.array([[1, 0.0], \n",
    "            [0.0, 0.0]]),\n",
    "    np.array([[0.90, 0.03], \n",
    "            [0.02, 0.05]]),\n",
    "    np.array([[0.80, 0.10], \n",
    "            [0.05, 0.05]]),\n",
    "    np.array([[0.70, 0.23], \n",
    "            [0.02, 0.05]]),\n",
    "]\n",
    "pls = [\n",
    "    np.array([[0.05, 0.02],\n",
    "            [0.03, 0.90]]),\n",
    "    np.array([[0.05, 0.05],\n",
    "            [0.10, 0.80]]),\n",
    "    np.array([[0.05, 0.02],\n",
    "            [0.23, 0.70]]),\n",
    "    np.array([[0.02, 0.08],\n",
    "            [0.18, 0.72]]), # this one the signals are independent\n",
    "]\n",
    "Thetas = [0.9, 0.95, 0.97, 0.99]\n",
    "# Thetas = [0.95, 0.97, 0.99]"
   ]
  },
  {
   "cell_type": "code",
   "execution_count": 32,
   "metadata": {},
   "outputs": [],
   "source": [
    "def get_max_density(data1, data2, bins=rs):\n",
    "    # Calculate densities for both datasets\n",
    "    hist1, _ = np.histogram(data1, bins=bins, density=True)\n",
    "    hist2, _ = np.histogram(data2, bins=bins, density=True)\n",
    "    \n",
    "    # Find the maximum density value\n",
    "    return max(hist1.max(), hist2.max())"
   ]
  },
  {
   "cell_type": "code",
   "execution_count": 34,
   "metadata": {},
   "outputs": [
    {
     "name": "stderr",
     "output_type": "stream",
     "text": [
      "100%|██████████| 200/200 [01:05<00:00,  3.05it/s]\n",
      "100%|██████████| 200/200 [01:05<00:00,  3.04it/s]\n",
      "100%|██████████| 200/200 [01:04<00:00,  3.11it/s]\n",
      "100%|██████████| 200/200 [01:05<00:00,  3.07it/s]\n",
      "100%|██████████| 200/200 [01:07<00:00,  2.96it/s]\n",
      "100%|██████████| 200/200 [01:05<00:00,  3.03it/s]\n",
      "100%|██████████| 200/200 [01:05<00:00,  3.08it/s]\n",
      "100%|██████████| 200/200 [01:05<00:00,  3.07it/s]\n",
      "100%|██████████| 200/200 [01:04<00:00,  3.08it/s]\n",
      "100%|██████████| 200/200 [01:04<00:00,  3.11it/s]\n",
      "100%|██████████| 200/200 [01:04<00:00,  3.10it/s]\n",
      "100%|██████████| 200/200 [01:04<00:00,  3.12it/s]\n",
      "100%|██████████| 200/200 [01:05<00:00,  3.06it/s]\n",
      "100%|██████████| 200/200 [01:04<00:00,  3.09it/s]\n",
      "100%|██████████| 200/200 [01:05<00:00,  3.05it/s]\n",
      "100%|██████████| 200/200 [01:04<00:00,  3.10it/s]\n",
      "100%|██████████| 200/200 [01:06<00:00,  3.03it/s]\n",
      "100%|██████████| 200/200 [01:06<00:00,  3.02it/s]\n",
      "100%|██████████| 200/200 [01:04<00:00,  3.09it/s]\n",
      "100%|██████████| 200/200 [01:03<00:00,  3.16it/s]\n",
      "100%|██████████| 200/200 [01:06<00:00,  3.01it/s]\n",
      "100%|██████████| 200/200 [01:06<00:00,  2.99it/s]\n",
      "100%|██████████| 200/200 [01:05<00:00,  3.06it/s]\n",
      "100%|██████████| 200/200 [01:05<00:00,  3.08it/s]\n",
      "100%|██████████| 200/200 [01:05<00:00,  3.05it/s]\n",
      "100%|██████████| 200/200 [01:05<00:00,  3.04it/s]\n",
      "100%|██████████| 200/200 [01:05<00:00,  3.03it/s]\n",
      "100%|██████████| 200/200 [01:06<00:00,  3.03it/s]\n",
      "100%|██████████| 200/200 [01:07<00:00,  2.95it/s]\n",
      "100%|██████████| 200/200 [01:05<00:00,  3.04it/s]\n",
      "100%|██████████| 200/200 [01:04<00:00,  3.09it/s]\n",
      "100%|██████████| 200/200 [01:04<00:00,  3.11it/s]\n",
      "100%|██████████| 200/200 [01:06<00:00,  3.01it/s]\n",
      "100%|██████████| 200/200 [01:05<00:00,  3.04it/s]\n",
      "100%|██████████| 200/200 [01:05<00:00,  3.07it/s]\n",
      "100%|██████████| 200/200 [01:05<00:00,  3.05it/s]\n",
      "100%|██████████| 200/200 [01:07<00:00,  2.95it/s]\n",
      "100%|██████████| 200/200 [01:05<00:00,  3.05it/s]\n",
      "100%|██████████| 200/200 [01:05<00:00,  3.04it/s]\n",
      "100%|██████████| 200/200 [01:05<00:00,  3.04it/s]\n",
      "100%|██████████| 200/200 [01:06<00:00,  2.99it/s]\n",
      "100%|██████████| 200/200 [01:06<00:00,  3.02it/s]\n",
      "100%|██████████| 200/200 [01:05<00:00,  3.05it/s]\n",
      "100%|██████████| 200/200 [01:06<00:00,  3.02it/s]\n",
      "100%|██████████| 200/200 [01:06<00:00,  3.00it/s]\n",
      "100%|██████████| 200/200 [01:06<00:00,  3.02it/s]\n",
      "100%|██████████| 200/200 [01:05<00:00,  3.05it/s]\n",
      "100%|██████████| 200/200 [01:06<00:00,  2.99it/s]\n",
      "100%|██████████| 200/200 [01:08<00:00,  2.93it/s]\n",
      "100%|██████████| 200/200 [01:06<00:00,  2.99it/s]\n",
      "100%|██████████| 200/200 [01:06<00:00,  3.00it/s]\n",
      "100%|██████████| 200/200 [01:06<00:00,  2.99it/s]\n",
      "100%|██████████| 200/200 [01:09<00:00,  2.88it/s]\n",
      "100%|██████████| 200/200 [01:07<00:00,  2.96it/s]\n",
      "100%|██████████| 200/200 [01:08<00:00,  2.93it/s]\n",
      "100%|██████████| 200/200 [01:08<00:00,  2.93it/s]\n",
      "100%|██████████| 200/200 [01:08<00:00,  2.91it/s]\n",
      "100%|██████████| 200/200 [01:08<00:00,  2.94it/s]\n",
      "100%|██████████| 200/200 [01:11<00:00,  2.82it/s]\n",
      "100%|██████████| 200/200 [01:09<00:00,  2.87it/s]\n",
      "100%|██████████| 200/200 [01:09<00:00,  2.88it/s]\n",
      "100%|██████████| 200/200 [01:09<00:00,  2.88it/s]\n",
      "100%|██████████| 200/200 [01:08<00:00,  2.93it/s]\n",
      "100%|██████████| 200/200 [01:08<00:00,  2.91it/s]\n"
     ]
    }
   ],
   "source": [
    "for PH, PL, Theta in itertools.product(phs, pls, Thetas):   \n",
    "        N = 100_000\n",
    "        Borrower_types = ['H', 'L']\n",
    "        Signals = ['hh', 'hl', 'lh', 'll']\n",
    "        ph_1d, pl_1d = PH.reshape(-1), PL.reshape(-1)\n",
    "        assert(PH.sum() == 1); assert(PL.sum() == 1)\n",
    "\n",
    "        # reset things hers\n",
    "        N_rounds = 200\n",
    "        rs = np.linspace(0, 0.2, 11)\n",
    "        l1_cum_util = {\n",
    "            'h': np.zeros_like(rs),\n",
    "            'l': np.zeros_like(rs)\n",
    "        }\n",
    "        l2_cum_util = {\n",
    "            'h': np.zeros_like(rs),\n",
    "            'l': np.zeros_like(rs)\n",
    "        }\n",
    "\n",
    "        br, l1, l2 = gen_signals_for_one_round(N_borrowers=N, Theta=Theta, ph_1d=ph_1d, pl_1d=pl_1d)\n",
    "\n",
    "        for round in tqdm(range(N_rounds)):\n",
    "            l1_offers = []\n",
    "            l2_offers = []\n",
    "            # print out the cum utils\n",
    "            # print(l1_cum_util, '\\n', l2_cum_util)\n",
    "\n",
    "            l1_offers = np.zeros(N)\n",
    "            l2_offers = np.zeros(N)\n",
    "\n",
    "            for br_id in range(N):\n",
    "                l1_offers[br_id] = make_offer(\n",
    "                    l1_cum_util[l1[br_id]], rs\n",
    "                )\n",
    "                l2_offers[br_id] = make_offer(\n",
    "                    l2_cum_util[l2[br_id]], rs\n",
    "                )\n",
    "\n",
    "            l1_cum_util = update_cum_util(l1_cum_util, l1, l2_offers, br)\n",
    "            l2_cum_util = update_cum_util(l2_cum_util, l2, l1_offers, br)\n",
    "            # print(l1_cum_util, '\\n', l2_cum_util)\n",
    "\n",
    "        l1_h_index = np.where(np.array(l1) == 'h')\n",
    "        l1_l_index = np.where(np.array(l1) == 'l')\n",
    "        l2_h_index = np.where(np.array(l2) == 'h')\n",
    "        l2_l_index = np.where(np.array(l2) == 'l')\n",
    "\n",
    "        fig, ax = plt.subplots(1, 2, figsize=(10, 5))\n",
    "        # plot lender 1 in the first plot\n",
    "        ax[0].hist(np.array(l1_offers)[l1_h_index], bins=rs, alpha=0.5, label='Lender 1 - h offers', density=True)\n",
    "        ax[0].hist(np.array(l1_offers)[l1_l_index], bins=rs, alpha=0.5, label='Lender 1 - l offers', density=True)\n",
    "        ax[0].set_xlim(0, 0.2)\n",
    "        max_density = get_max_density(np.array(l1_offers)[l1_h_index], np.array(l1_offers)[l1_l_index], bins = rs)\n",
    "        ax[0].set_ylim(0, max_density)\n",
    "        ax[0].legend()\n",
    "\n",
    "        # plot lender 2 in the second plot\n",
    "        ax[1].hist(np.array(l2_offers)[l2_h_index], bins=rs, alpha=0.5, label='Lender 2 - h offers', density=True)\n",
    "        ax[1].hist(np.array(l2_offers)[l2_l_index], bins=rs, alpha=0.5, label='Lender 2 - l offers', density=True)\n",
    "        ax[1].set_xlim(0, 0.2)\n",
    "        max_density = get_max_density(np.array(l2_offers)[l2_h_index], np.array(l2_offers)[l2_l_index])\n",
    "        ax[1].set_ylim(0, max_density)\n",
    "        ax[1].legend()\n",
    "\n",
    "        # ylabel\n",
    "        ax[0].set_ylabel('Density')\n",
    "        \n",
    "        # xlabel\n",
    "        ax[0].set_xlabel('Interest rate')\n",
    "        ax[1].set_xlabel('Interest rate')\n",
    "\n",
    "        plt.savefig(f'plots/lender_offers_{ph_1d}_{pl_1d}_{Theta}.png')\n",
    "\n",
    "        plt.close()"
   ]
  },
  {
   "cell_type": "code",
   "execution_count": null,
   "metadata": {},
   "outputs": [],
   "source": []
  }
 ],
 "metadata": {
  "kernelspec": {
   "display_name": "orie5355",
   "language": "python",
   "name": "python3"
  },
  "language_info": {
   "codemirror_mode": {
    "name": "ipython",
    "version": 3
   },
   "file_extension": ".py",
   "mimetype": "text/x-python",
   "name": "python",
   "nbconvert_exporter": "python",
   "pygments_lexer": "ipython3",
   "version": "3.12.7"
  }
 },
 "nbformat": 4,
 "nbformat_minor": 2
}
