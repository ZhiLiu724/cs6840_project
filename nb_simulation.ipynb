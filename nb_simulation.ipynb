{
 "cells": [
  {
   "cell_type": "code",
   "execution_count": 11,
   "metadata": {},
   "outputs": [],
   "source": [
    "import numpy as np\n",
    "import matplotlib.pyplot as plt"
   ]
  },
  {
   "cell_type": "code",
   "execution_count": 217,
   "metadata": {},
   "outputs": [],
   "source": [
    "# constants\n",
    "T = 100\n",
    "N = 1000\n",
    "theta = 0.1 # 100 people are L-type each round"
   ]
  },
  {
   "cell_type": "markdown",
   "metadata": {},
   "source": [
    "#### Problem setup\n",
    "\n",
    "Two lenders compete for borrowers over a period of T steps. There are a total of N borrowers in the market, where $\\theta N$ are L-type borrowers who never repays, and $(1-\\theta) N$ are H-type borrowers who always repays. \n",
    "\n",
    "In round $t-1$, suppose lender $i$ lends to $L_{i}^{t-1}$ L-type borrowers, and $H_{i}^{t-1}$ H-type borrowers, for incoming borrowers in round $t$, lender $i$ received signals as follows:\n",
    "\\begin{equation}\n",
    "    I_i^t(H) = H,\\quad  I_i^t(L) = \\begin{cases}\n",
    "        H, &\\text{ with probability } 1- f(L_i^{t-1}, H_{i}^{t-1}),\\\\\n",
    "        L, &\\text{ with probability } f(L_i^{t-1}, H_{i}^{t-1}).\n",
    "    \\end{cases}\n",
    "\\end{equation}\n",
    "where $f(\\cdot, \\cdot)$ is concave, differentiable, non-decreasing, with\n",
    "$$\n",
    "f(0,0) = 0, f(\\theta N, (1-\\theta) N) < 1\n",
    "$$\n",
    "\n",
    "The signals are observed independently for the two lenders.\n",
    "\n",
    "#### Question 1\n",
    "\n",
    "Both lenders have capacity to lend to all borrowers $N$, and their objective is a decide on an optimal interest rate to charge, based on observing the signals $H$. For simplicity, in this setting, I'm going to assume that the lender will simply deny borrowers with signal $L$. \n",
    "\n",
    "Challenge: how do we deal with incomplete feedback, i.e., if the lender did not offer some interest rate, the utility is not observed.\n",
    "\n",
    "Proposed solution: use propensity scoring to approximate the utility function.\n",
    "\n",
    "Let us assume the lenders choose from a range of interest rates $r_1 \\lt r_2 \\lt r_3 \\dots \\lt r_m$. For each offerd borrower, the utility takes three possibilities:\n",
    "\\begin{equation}\n",
    "u(r) = \\begin{cases}\n",
    "r, &\\text{if borrower accepts, and repays};\\\\\n",
    "-1, &\\text{if borrower accepts, and defaults};\\\\\n",
    "0, &\\text{if borrower declines}.\\\\\n",
    "\\end{cases}\n",
    "\\end{equation}\n",
    "\n",
    "In each round, suppose a lender offered rates $r_1, r_2,\\dots, r_m$ to $n_1, n_2, \\dots,n_m$ borrowers, respectively. We will take the resulting average utility from these lenders, denoted by $u_1, u_2, \\dots, u_m$, and further define the following approximate utility vector:\n",
    "\\begin{equation}\n",
    "\\bar{u}(r_j) = \\begin{cases}\n",
    "u_j \\frac{\\sum_l n_l}{n_j}, & \\text{if }n_j\\lt 0,\\\\\n",
    "0, & \\text{otherwise}.\n",
    "\\end{cases}\n",
    "\\end{equation}"
   ]
  },
  {
   "cell_type": "markdown",
   "metadata": {},
   "source": [
    "#### Setting up the signal function"
   ]
  },
  {
   "cell_type": "code",
   "execution_count": 218,
   "metadata": {},
   "outputs": [],
   "source": [
    "def f(l,h):\n",
    "    return 0.99*min((l/(N*theta))**0.2, (h/(N*(1-theta)))**0.2)"
   ]
  },
  {
   "cell_type": "code",
   "execution_count": 219,
   "metadata": {},
   "outputs": [],
   "source": [
    "ls, hs = np.linspace(0, N*theta, 100), np.linspace(0, N*(1-theta), 900)"
   ]
  },
  {
   "cell_type": "code",
   "execution_count": 220,
   "metadata": {},
   "outputs": [
    {
     "data": {
      "text/plain": [
       "<matplotlib.legend.Legend at 0x31ec602f0>"
      ]
     },
     "execution_count": 220,
     "metadata": {},
     "output_type": "execute_result"
    },
    {
     "data": {
      "image/png": "[encoded data removed]",
      "text/plain": [
       "<Figure size 640x480 with 1 Axes>"
      ]
     },
     "metadata": {},
     "output_type": "display_data"
    }
   ],
   "source": [
    "fs1 = [f(5, h) for h in hs]\n",
    "fs2 = [f(50, h) for h in hs]\n",
    "fs3 = [f(100, h) for h in hs]\n",
    "plt.plot(fs1, label = 'l=5')\n",
    "plt.plot(fs2, label = 'l=50')\n",
    "plt.plot(fs3, label = 'l=100')\n",
    "plt.xlabel('h')\n",
    "plt.ylabel('f(l,h)')\n",
    "plt.legend()"
   ]
  },
  {
   "cell_type": "code",
   "execution_count": 221,
   "metadata": {},
   "outputs": [],
   "source": [
    "def signal_function(l, h, true_type):\n",
    "    assert true_type in ['H', 'L']\n",
    "    if true_type == 'H':\n",
    "        return 'H'\n",
    "    else:\n",
    "        rand = np.random.rand()\n",
    "        if rand > f(l,h):\n",
    "            return 'H'\n",
    "        else:\n",
    "            return 'L'"
   ]
  },
  {
   "cell_type": "code",
   "execution_count": 222,
   "metadata": {},
   "outputs": [
    {
     "data": {
      "text/plain": [
       "(array(['H', 'L'], dtype='<U1'), array([  6, 994]))"
      ]
     },
     "execution_count": 222,
     "metadata": {},
     "output_type": "execute_result"
    }
   ],
   "source": [
    "signals = [signal_function(100, 900, 'L') for _ in range(1000)]\n",
    "np.unique(signals, return_counts=True)"
   ]
  },
  {
   "cell_type": "markdown",
   "metadata": {},
   "source": [
    "#### Suppose both lenders use follow the perturbed leader for each borrower, what is the end result?"
   ]
  },
  {
   "cell_type": "code",
   "execution_count": 223,
   "metadata": {},
   "outputs": [],
   "source": [
    "# things to store\n",
    "borrowers = []\n",
    "borrower_choices = []\n",
    "lender_offers = {\n",
    "                1: [],\n",
    "                2: []\n",
    "    }\n",
    "interest_rates = np.linspace(0.01, 0.2, 20)\n",
    "lender_utilities = {\n",
    "                1: np.zeros(20),\n",
    "                2: np.zeros(20),\n",
    "    }  # need to store these to calculate the regret, initialize to 0 utility for all choices\n",
    "lender_loans = {\n",
    "    1: [[0, 0]],\n",
    "    2: [[0, 0]]\n",
    "} # the total number of loans [l, h]-type each lender made"
   ]
  },
  {
   "cell_type": "code",
   "execution_count": 291,
   "metadata": {},
   "outputs": [],
   "source": [
    "# do the simulation\n",
    "\n",
    "\n",
    "for t in range(T):\n",
    "    # generate borrowers\n",
    "    cur_borrowers = ['H'] * int((1-theta) * N) + ['L'] * int(theta * N)\n",
    "\n",
    "    cur_round_offers = {\n",
    "        1: [],\n",
    "        2: []\n",
    "    }\n",
    "    # for each lender\n",
    "    for lender in [1,2]:\n",
    "        # first generate signals\n",
    "        signals = [signal_function(lender_loans[lender][-1][0], lender_loans[lender][-1][1], bor) for bor in cur_borrowers]\n",
    "        for signal in signals:\n",
    "            if signal == 'L':\n",
    "                cur_round_offers[lender].append(100) # make no offer\n",
    "            else:\n",
    "                # calculate the minimum (perturbed) regret interest rate\n",
    "                # note this is done for each individual borrower, otherwise all borrowers would get the same interest rate\n",
    "                try:\n",
    "                    regret = lender_utilities[lender].sum(axis = 0) + np.random.normal(0, 10, 20)\n",
    "                    min_regret_rate = regret.argmax() # min-regret i.e. max utility\n",
    "                    cur_round_offers[lender].append(interest_rates[min_regret_rate])\n",
    "                except:\n",
    "                    regret = np.random.normal(0, 10, 20)\n",
    "                    min_regret_rate = regret.argmax()\n",
    "                    cur_round_offers[lender].append(interest_rates[min_regret_rate])\n",
    "        # store the offers\n",
    "        lender_offers[lender].append(cur_round_offers[lender])\n",
    "        \n",
    "    # borrowers make decisions\n",
    "    cur_borrower_choices = []\n",
    "    for i in range(N):\n",
    "        if cur_round_offers[1][i] == 100 and cur_round_offers[2][i] == 100:\n",
    "            # neither lender made an offer\n",
    "            cur_borrower_choices.append(0)\n",
    "        else:\n",
    "            # choose the lender with the lower interest rate\n",
    "            # note that this takes into account one lender giving 100\n",
    "            if cur_round_offers[1][i] < cur_round_offers[2][i]:\n",
    "                cur_borrower_choices.append(1)\n",
    "            elif cur_round_offers[1][i] > cur_round_offers[2][i]:\n",
    "                cur_borrower_choices.append(2)\n",
    "            else:\n",
    "                cur_borrower_choices.append(np.random.choice([1,2]))\n",
    "\n",
    "    # store the borrower choices\n",
    "    borrower_choices.append(cur_borrower_choices)\n",
    "\n",
    "    # reveal the true types, update utilities, update last round loans\n",
    "    cur_lender_loans = {\n",
    "        1: [0, 0],\n",
    "        2: [0, 0],\n",
    "    } # keep track of total l, h loans made by each lender this round\n",
    "    cur_lender_interest_rate_offer_taken = {\n",
    "        1: np.zeros(20),\n",
    "        2: np.zeros(20)\n",
    "    } # keep track of each lender's interest rates accepted this round\n",
    "    cur_lender_utilities = {\n",
    "        1: np.zeros(20),\n",
    "        2: np.zeros(20)\n",
    "    } # keep track of each lender's cumulative utilities for each interest rate this round\n",
    "    for lender in [1,2]:\n",
    "        for i in range(N):\n",
    "            if cur_borrower_choices[i] == lender:\n",
    "                if cur_borrowers[i] == 'L':\n",
    "                    # lend to one L borrower, get -1 back\n",
    "                    cur_lender_loans[lender][0] += 1\n",
    "                    cur_lender_interest_rate_offer_taken[lender][interest_rates.tolist().index(cur_round_offers[lender][i])] += 1\n",
    "                    cur_lender_utilities[lender][interest_rates.tolist().index(cur_round_offers[lender][i])] += (-1)\n",
    "                elif cur_borrowers[i] == 'H':\n",
    "                    # lend to one H borrower, get interest_rate*6 back\n",
    "                    cur_lender_loans[lender][1] += 1\n",
    "                    cur_lender_interest_rate_offer_taken[lender][interest_rates.tolist().index(cur_round_offers[lender][i])] += 1\n",
    "                    cur_lender_utilities[lender][interest_rates.tolist().index(cur_round_offers[lender][i])] += cur_round_offers[lender][i]*6\n",
    "    # update the utilities for this round\n",
    "    for lender in [1,2]:\n",
    "        for interest_rate_ind in range(20):\n",
    "            if cur_lender_interest_rate_offer_taken[lender][interest_rate_ind] > 0:\n",
    "                cur_lender_utilities[lender][interest_rate_ind] = \\\n",
    "                    cur_lender_utilities[lender][interest_rate_ind] * sum(cur_lender_interest_rate_offer_taken[lender]) / cur_lender_interest_rate_offer_taken[lender][interest_rate_ind] ** 2\n",
    "    # append the utilities to overall\n",
    "    for lender in [1,2]:\n",
    "        lender_utilities[lender] = np.vstack([lender_utilities[lender], cur_lender_utilities[lender]])\n",
    "        lender_loans[lender].append(cur_lender_loans[lender])"
   ]
  },
  {
   "cell_type": "code",
   "execution_count": 275,
   "metadata": {},
   "outputs": [
    {
     "data": {
      "text/plain": [
       "array([ -10.38620867,    2.82640222,    6.86088532,   38.12295227,\n",
       "        141.88541147,  -20.91234566,    8.38817396,   99.34972449,\n",
       "         -4.66854027,  399.88491645,   38.78142959,   -8.63810424,\n",
       "         22.08420989,    1.21707355,  -13.66772874,   -7.12770091,\n",
       "        -14.03842156,  -27.94465191, -102.26788043, -101.50417226])"
      ]
     },
     "execution_count": 275,
     "metadata": {},
     "output_type": "execute_result"
    }
   ],
   "source": [
    "lender_utilities[2].sum(axis = 0) + np.random.normal(0, 10, 20)"
   ]
  },
  {
   "cell_type": "code",
   "execution_count": 276,
   "metadata": {},
   "outputs": [
    {
     "data": {
      "text/plain": [
       "array([-2.36106870e+01, -1.66657134e+01, -5.03842952e+00,  3.73150229e+00,\n",
       "       -9.25070759e+00,  1.16472911e+01, -2.11576959e+00, -6.85400231e+00,\n",
       "        1.28915324e+01, -1.61933140e+01,  5.12054594e+02, -3.35385083e-01,\n",
       "        7.18202078e+00,  4.12354515e+00,  1.94326514e+00, -1.97222477e+00,\n",
       "       -7.51533187e+00, -1.97547691e+01, -6.51176182e+00, -1.15010437e+02])"
      ]
     },
     "execution_count": 276,
     "metadata": {},
     "output_type": "execute_result"
    }
   ],
   "source": [
    "lender_utilities[1].sum(axis = 0) + np.random.normal(0, 10, 20)"
   ]
  },
  {
   "cell_type": "code",
   "execution_count": 289,
   "metadata": {},
   "outputs": [
    {
     "name": "stdout",
     "output_type": "stream",
     "text": [
      "printing the offered interest rates and their counts for each lender for each round\n",
      "round 1\n",
      "lender 1 (array([0.16]), array([909]))\n",
      "lender 2 (array([0.2]), array([914]))\n",
      "round 10\n",
      "lender 1 (array([0.16]), array([918]))\n",
      "lender 2 (array([0.2]), array([1000]))\n",
      "round 20\n",
      "lender 1 (array([0.16]), array([930]))\n",
      "lender 2 (array([0.2]), array([1000]))\n",
      "round 50\n",
      "lender 1 (array([0.16]), array([925]))\n",
      "lender 2 (array([0.2]), array([1000]))\n",
      "round 93\n",
      "lender 1 (array([0.16]), array([960]))\n",
      "lender 2 (array([0.14]), array([901]))\n"
     ]
    }
   ],
   "source": [
    "# histogram of the offers\n",
    "# first filter out all the 100s\n",
    "lender_offers_no100 = {\n",
    "    1: [[xi for xi in x if xi!=100] for x in lender_offers[1]],\n",
    "    2: [[xi for xi in x if xi!=100] for x in lender_offers[2]]\n",
    "}\n",
    "rounds = [1, 10, 20, 50, 93]\n",
    "print('printing the offered interest rates and their counts for each lender for each round')\n",
    "for r in rounds:\n",
    "    print(f'round {r}')\n",
    "    print('lender 1', np.unique(lender_offers_no100[1][r], return_counts=True))\n",
    "    print('lender 2', np.unique(lender_offers_no100[2][r], return_counts=True))"
   ]
  },
  {
   "cell_type": "markdown",
   "metadata": {},
   "source": [
    "#### variant: suppose they don't do the inverse weighting"
   ]
  },
  {
   "cell_type": "code",
   "execution_count": 331,
   "metadata": {},
   "outputs": [],
   "source": [
    "# things to store\n",
    "borrowers = []\n",
    "borrower_choices = []\n",
    "lender_offers = {\n",
    "                1: [],\n",
    "                2: []\n",
    "    }\n",
    "interest_rates = np.linspace(0.01, 0.2, 20)\n",
    "lender_utilities = {\n",
    "                1: np.zeros(20),\n",
    "                2: np.zeros(20),\n",
    "    }  # need to store these to calculate the regret, initialize to 0 utility for all choices\n",
    "lender_loans = {\n",
    "    1: [[0, 0]],\n",
    "    2: [[0, 0]]\n",
    "} # the total number of loans [l, h]-type each lender made"
   ]
  },
  {
   "cell_type": "code",
   "execution_count": 332,
   "metadata": {},
   "outputs": [],
   "source": [
    "# do the simulation\n",
    "\n",
    "\n",
    "for t in range(T):\n",
    "    # generate borrowers\n",
    "    cur_borrowers = ['H'] * int((1-theta) * N) + ['L'] * int(theta * N)\n",
    "\n",
    "    cur_round_offers = {\n",
    "        1: [],\n",
    "        2: []\n",
    "    }\n",
    "    # for each lender\n",
    "    for lender in [1,2]:\n",
    "        # first generate signals\n",
    "        signals = [signal_function(lender_loans[lender][-1][0], lender_loans[lender][-1][1], bor) for bor in cur_borrowers]\n",
    "        for signal in signals:\n",
    "            if signal == 'L':\n",
    "                cur_round_offers[lender].append(100) # make no offer\n",
    "            else:\n",
    "                # calculate the minimum (perturbed) regret interest rate\n",
    "                # note this is done for each individual borrower, otherwise all borrowers would get the same interest rate\n",
    "                try:\n",
    "                    regret = lender_utilities[lender].sum(axis = 0) + np.random.normal(0, 1, 20)\n",
    "                    min_regret_rate = regret.argmax() # min-regret i.e. max utility\n",
    "                    cur_round_offers[lender].append(interest_rates[min_regret_rate])\n",
    "                except:\n",
    "                    regret = np.random.normal(0, 1, 20)\n",
    "                    min_regret_rate = regret.argmax()\n",
    "                    cur_round_offers[lender].append(interest_rates[min_regret_rate])\n",
    "        # store the offers\n",
    "        lender_offers[lender].append(cur_round_offers[lender])\n",
    "        \n",
    "    # borrowers make decisions\n",
    "    cur_borrower_choices = []\n",
    "    for i in range(N):\n",
    "        if cur_round_offers[1][i] == 100 and cur_round_offers[2][i] == 100:\n",
    "            # neither lender made an offer\n",
    "            cur_borrower_choices.append(0)\n",
    "        else:\n",
    "            # choose the lender with the lower interest rate\n",
    "            # note that this takes into account one lender giving 100\n",
    "            if cur_round_offers[1][i] < cur_round_offers[2][i]:\n",
    "                cur_borrower_choices.append(1)\n",
    "            elif cur_round_offers[1][i] > cur_round_offers[2][i]:\n",
    "                cur_borrower_choices.append(2)\n",
    "            else:\n",
    "                cur_borrower_choices.append(np.random.choice([1,2]))\n",
    "\n",
    "    # store the borrower choices\n",
    "    borrower_choices.append(cur_borrower_choices)\n",
    "\n",
    "    # reveal the true types, update utilities, update last round loans\n",
    "    cur_lender_loans = {\n",
    "        1: [0, 0],\n",
    "        2: [0, 0],\n",
    "    } # keep track of total l, h loans made by each lender this round\n",
    "    cur_lender_interest_rate_offer_taken = {\n",
    "        1: np.zeros(20),\n",
    "        2: np.zeros(20)\n",
    "    } # keep track of each lender's interest rates accepted this round\n",
    "    cur_lender_utilities = {\n",
    "        1: np.zeros(20),\n",
    "        2: np.zeros(20)\n",
    "    } # keep track of each lender's cumulative utilities for each interest rate this round\n",
    "    for lender in [1,2]:\n",
    "        for i in range(N):\n",
    "            if cur_borrower_choices[i] == lender:\n",
    "                if cur_borrowers[i] == 'L':\n",
    "                    # lend to one L borrower, get -1 back\n",
    "                    cur_lender_loans[lender][0] += 1\n",
    "                    cur_lender_interest_rate_offer_taken[lender][interest_rates.tolist().index(cur_round_offers[lender][i])] += 1\n",
    "                    cur_lender_utilities[lender][interest_rates.tolist().index(cur_round_offers[lender][i])] += (-1)\n",
    "                elif cur_borrowers[i] == 'H':\n",
    "                    # lend to one H borrower, get interest_rate*6 back\n",
    "                    cur_lender_loans[lender][1] += 1\n",
    "                    cur_lender_interest_rate_offer_taken[lender][interest_rates.tolist().index(cur_round_offers[lender][i])] += 1\n",
    "                    cur_lender_utilities[lender][interest_rates.tolist().index(cur_round_offers[lender][i])] += cur_round_offers[lender][i]*6\n",
    "    # update the utilities for this round\n",
    "    for lender in [1,2]:\n",
    "        for interest_rate_ind in range(20):\n",
    "            if cur_lender_interest_rate_offer_taken[lender][interest_rate_ind] > 0:\n",
    "                cur_lender_utilities[lender][interest_rate_ind] = \\\n",
    "                    cur_lender_utilities[lender][interest_rate_ind] / cur_lender_interest_rate_offer_taken[lender][interest_rate_ind]\n",
    "    # append the utilities to overall\n",
    "    for lender in [1,2]:\n",
    "        lender_utilities[lender] = np.vstack([lender_utilities[lender], cur_lender_utilities[lender]])\n",
    "        lender_loans[lender].append(cur_lender_loans[lender])"
   ]
  },
  {
   "cell_type": "code",
   "execution_count": 333,
   "metadata": {},
   "outputs": [
    {
     "name": "stdout",
     "output_type": "stream",
     "text": [
      "printing the offered interest rates and their counts for each lender for each round\n",
      "round 1\n",
      "lender 1 (array([0.01, 0.02, 0.03, 0.04, 0.05, 0.06, 0.07, 0.08, 0.09, 0.1 , 0.11,\n",
      "       0.12, 0.13, 0.14, 0.15, 0.16, 0.17, 0.18, 0.19, 0.2 ]), array([ 10,  15,   9,  11,  29,  22,  31,  17,  28,  50,  33,  47,  33,\n",
      "        60,  21,  96,  85,  77, 117, 126]))\n",
      "lender 2 (array([0.01, 0.02, 0.03, 0.04, 0.05, 0.06, 0.07, 0.08, 0.09, 0.1 , 0.11,\n",
      "       0.12, 0.13, 0.14, 0.15, 0.16, 0.17, 0.18, 0.19, 0.2 ]), array([ 10,  27,  18,  11,  18,  19,  32,  35,  36,  28,  47,  57,  61,\n",
      "        80,  54,  99,  48,  51,  50, 132]))\n",
      "round 10\n",
      "lender 1 (array([0.13, 0.14, 0.15, 0.16, 0.17, 0.18, 0.19]), array([  7,  17,   9, 125, 158, 225, 385]))\n",
      "lender 2 (array([0.12, 0.13, 0.14, 0.15, 0.16, 0.17, 0.18, 0.19]), array([  1,   7,  24,  32, 180, 168, 219, 290]))\n",
      "round 20\n",
      "lender 1 (array([0.14, 0.15, 0.16, 0.17, 0.18, 0.19]), array([  1,   2,  69, 217, 461, 176]))\n",
      "lender 2 (array([0.15, 0.16, 0.17, 0.18, 0.19]), array([  9, 129, 224, 388, 176]))\n",
      "round 50\n",
      "lender 1 (array([0.16, 0.17, 0.18]), array([ 10, 542, 364]))\n",
      "lender 2 (array([0.16, 0.17, 0.18]), array([ 49, 518, 358]))\n",
      "round 99\n",
      "lender 1 (array([0.16, 0.17]), array([  5, 921]))\n",
      "lender 2 (array([0.16, 0.17]), array([ 29, 894]))\n"
     ]
    }
   ],
   "source": [
    "# histogram of the offers\n",
    "# first filter out all the 100s\n",
    "lender_offers_no100 = {\n",
    "    1: [[xi for xi in x if xi!=100] for x in lender_offers[1]],\n",
    "    2: [[xi for xi in x if xi!=100] for x in lender_offers[2]]\n",
    "}\n",
    "rounds = [1, 10, 20, 50, 99]\n",
    "print('printing the offered interest rates and their counts for each lender for each round')\n",
    "for r in rounds:\n",
    "    print(f'round {r}')\n",
    "    print('lender 1', np.unique(lender_offers_no100[1][r], return_counts=True))\n",
    "    print('lender 2', np.unique(lender_offers_no100[2][r], return_counts=True))"
   ]
  },
  {
   "cell_type": "code",
   "execution_count": null,
   "metadata": {},
   "outputs": [
    {
     "data": {
      "text/plain": [
       "<matplotlib.legend.Legend at 0x32181bb60>"
      ]
     },
     "execution_count": 341,
     "metadata": {},
     "output_type": "execute_result"
    },
    {
     "data": {
      "image/png": "[encoded data removed]",
      "text/plain": [
       "<Figure size 500x500 with 1 Axes>"
      ]
     },
     "metadata": {},
     "output_type": "display_data"
    }
   ],
   "source": [
    "plt.figure(figsize=(5,5))\n",
    "plt.hist(lender_offers_no100[1][0], bins = 20, label='lender 1, round 0', alpha = 0.5)\n",
    "plt.hist(lender_offers_no100[1][2], bins = 20, label='lender 1, round 2', alpha = 0.5)\n",
    "plt.hist(lender_offers_no100[1][10], bins = 20, label='lender 1, round 10', alpha = 0.5)\n",
    "# plt.hist(lender_offers_no100[1][20], bins = 20, label='lender 1, round 20', alpha = 0.5)\n",
    "# plt.hist(lender_offers_no100[1][30], bins = 20, label='lender 1, round 99', alpha = 0.5)\n",
    "plt.legend()"
   ]
  },
  {
   "cell_type": "code",
   "execution_count": 342,
   "metadata": {},
   "outputs": [
    {
     "data": {
      "text/plain": [
       "<matplotlib.legend.Legend at 0x328d37dd0>"
      ]
     },
     "execution_count": 342,
     "metadata": {},
     "output_type": "execute_result"
    },
    {
     "data": {
      "image/png": "[encoded data removed]",
      "text/plain": [
       "<Figure size 500x500 with 1 Axes>"
      ]
     },
     "metadata": {},
     "output_type": "display_data"
    }
   ],
   "source": [
    "plt.figure(figsize=(5,5))\n",
    "plt.hist(lender_offers_no100[2][0], bins = 20, label='lender 2, round 0', alpha = 0.5)\n",
    "plt.hist(lender_offers_no100[2][2], bins = 20, label='lender 2, round 2', alpha = 0.5)\n",
    "plt.hist(lender_offers_no100[2][10], bins = 20, label='lender 2, round 10', alpha = 0.5)\n",
    "# plt.hist(lender_offers_no100[2][20], bins = 20, label='lender 2, round 20', alpha = 0.5)\n",
    "# plt.hist(lender_offers_no100[2][30], bins = 20, label='lender 2, round 99', alpha = 0.5)\n",
    "plt.legend()"
   ]
  },
  {
   "cell_type": "code",
   "execution_count": null,
   "metadata": {},
   "outputs": [],
   "source": []
  }
 ],
 "metadata": {
  "kernelspec": {
   "display_name": "interview",
   "language": "python",
   "name": "python3"
  },
  "language_info": {
   "codemirror_mode": {
    "name": "ipython",
    "version": 3
   },
   "file_extension": ".py",
   "mimetype": "text/x-python",
   "name": "python",
   "nbconvert_exporter": "python",
   "pygments_lexer": "ipython3",
   "version": "3.12.7"
  }
 },
 "nbformat": 4,
 "nbformat_minor": 2
}
