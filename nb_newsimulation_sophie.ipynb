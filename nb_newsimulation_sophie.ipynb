{
 "cells": [
  {
   "cell_type": "markdown",
   "metadata": {},
   "source": [
    "## New simulation setup\n",
    "\n",
    "We assume that neither lender knows the fraction of H-type borrowers in the population, or how the signals are generated. They simply employ some learning algorithm, based on the utility of some action, and learn the best strategy.\n",
    "\n",
    "The market consists of a fraction $\\theta$ of H-type borrowers, and $1-\\theta$ of L-type borrowers. There are two lenders, 1 and 2, and each of them will receive a signal from each borrower. We let $p_{s_1, s_2}^{t}$ denote the probability that a borrower of true type $t\\in \\{L, H\\}$ will give a signal of $s_1$ to lender 1, and $s_2$ to lender $s_1$, where $s_1,s_2\\in \\{l, h\\}$."
   ]
  },
  {
   "cell_type": "code",
   "execution_count": 1,
   "metadata": {},
   "outputs": [],
   "source": [
    "import numpy as np"
   ]
  },
  {
   "cell_type": "markdown",
   "metadata": {},
   "source": [
    "### Constants\n",
    "\n",
    "Market size $N$, fraction of H-type borrower $\\theta$, and probabilities of signal generation.\n",
    "\n",
    "$$\n",
    "P^H = \\begin{array}{cc}\n",
    "p_{HH}^H, p_{HL}^H\\\\\n",
    "p_{LH}^H, p_{LL}^H\n",
    "\\end{array}\n",
    "$$\n",
    "\n",
    "$$\n",
    "P^L = \\begin{array}{cc}\n",
    "p_{HH}^L, p_{HL}^L\\\\\n",
    "p_{LH}^L, p_{LL}^L\n",
    "\\end{array}\n",
    "$$"
   ]
  },
  {
   "cell_type": "code",
   "execution_count": 58,
   "metadata": {},
   "outputs": [],
   "source": [
    "N = 100000\n",
    "Theta = 0.9\n",
    "Borrower_types = ['H', 'L']\n",
    "Signals = ['hh', 'hl', 'lh', 'll']\n",
    "PH = np.array([[0.90, 0.03], \n",
    "               [0.02, 0.05]])\n",
    "PL = np.array([[0.10, 0.06],\n",
    "               [0.04, 0.80]])\n",
    "assert(PH.sum() == 1); assert(PL.sum() == 1)"
   ]
  },
  {
   "cell_type": "markdown",
   "metadata": {},
   "source": [
    "### Generating borrowers with true types"
   ]
  },
  {
   "cell_type": "code",
   "execution_count": 59,
   "metadata": {},
   "outputs": [
    {
     "data": {
      "text/plain": [
       "(array(['H', 'L'], dtype='<U1'), array([89966, 10034]))"
      ]
     },
     "execution_count": 59,
     "metadata": {},
     "output_type": "execute_result"
    }
   ],
   "source": [
    "Borrowers = np.random.choice(Borrower_types, size=N, p=[Theta, 1-Theta])\n",
    "np.unique(Borrowers, return_counts=True)"
   ]
  },
  {
   "cell_type": "markdown",
   "metadata": {},
   "source": [
    "### Generating signals"
   ]
  },
  {
   "cell_type": "code",
   "execution_count": 60,
   "metadata": {},
   "outputs": [],
   "source": [
    "def signal(true_type, PH, PL):\n",
    "    if true_type == 'H':\n",
    "        return np.random.choice(Signals, p=PH)\n",
    "    elif true_type == 'L':\n",
    "        return np.random.choice(Signals, p=PL)\n",
    "    else:\n",
    "        raise ValueError"
   ]
  },
  {
   "cell_type": "code",
   "execution_count": 61,
   "metadata": {},
   "outputs": [],
   "source": [
    "ph_1d, pl_1d = PH.reshape(-1), PL.reshape(-1)\n",
    "signals = [signal(b, ph_1d, pl_1d) for b in Borrowers]"
   ]
  },
  {
   "cell_type": "code",
   "execution_count": 62,
   "metadata": {},
   "outputs": [],
   "source": [
    "lender1_signals = [s[0] for s in signals]\n",
    "lender2_signals = [s[1] for s in signals]"
   ]
  },
  {
   "cell_type": "code",
   "execution_count": 63,
   "metadata": {},
   "outputs": [
    {
     "data": {
      "text/plain": [
       "((array(['h', 'l'], dtype='<U1'), array([85261, 14739])),\n",
       " (array(['h', 'l'], dtype='<U1'), array([84203, 15797])))"
      ]
     },
     "execution_count": 63,
     "metadata": {},
     "output_type": "execute_result"
    }
   ],
   "source": [
    "np.unique(lender1_signals, return_counts=True), np.unique(lender2_signals, return_counts=True)"
   ]
  },
  {
   "cell_type": "markdown",
   "metadata": {},
   "source": [
    "### Wrapper"
   ]
  },
  {
   "cell_type": "code",
   "execution_count": 64,
   "metadata": {},
   "outputs": [],
   "source": [
    "def gen_signals_for_one_round():\n",
    "    borrowers = np.random.choice(Borrower_types, size=N, p=[Theta, 1-Theta])\n",
    "    signals = [signal(b, ph_1d, pl_1d) for b in borrowers]\n",
    "    lender1_signals = [s[0] for s in signals]\n",
    "    lender2_signals = [s[1] for s in signals]\n",
    "    return borrowers, lender1_signals, lender2_signals"
   ]
  },
  {
   "cell_type": "code",
   "execution_count": 65,
   "metadata": {},
   "outputs": [],
   "source": [
    "br, l1, l2 = gen_signals_for_one_round()"
   ]
  },
  {
   "cell_type": "code",
   "execution_count": 66,
   "metadata": {},
   "outputs": [
    {
     "data": {
      "text/plain": [
       "((array(['H', 'L'], dtype='<U1'), array([90102,  9898])),\n",
       " (array(['h', 'l'], dtype='<U1'), array([85411, 14589])),\n",
       " (array(['h', 'l'], dtype='<U1'), array([84409, 15591])))"
      ]
     },
     "execution_count": 66,
     "metadata": {},
     "output_type": "execute_result"
    }
   ],
   "source": [
    "np.unique(br, return_counts=True), np.unique(l1, return_counts=True), np.unique(l2, return_counts=True)"
   ]
  },
  {
   "cell_type": "code",
   "execution_count": 67,
   "metadata": {},
   "outputs": [
    {
     "name": "stdout",
     "output_type": "stream",
     "text": [
      "Lender 1 expected number of h signals 85300.0\n",
      "Lender 2 expected number of h signals 84200.0\n"
     ]
    }
   ],
   "source": [
    "print('Lender 1 expected number of h signals', N*Theta*PH[0].sum() + N*(1-Theta)*PL[0].sum())\n",
    "print('Lender 2 expected number of h signals', N*Theta*PH[:,0].sum() + N*(1-Theta)*PL[:,0].sum())"
   ]
  },
  {
   "cell_type": "code",
   "execution_count": 68,
   "metadata": {},
   "outputs": [],
   "source": [
    "from tqdm import tqdm"
   ]
  },
  {
   "cell_type": "code",
   "execution_count": 69,
   "metadata": {},
   "outputs": [
    {
     "name": "stderr",
     "output_type": "stream",
     "text": [
      "100%|███████████████████████████████████████████████████████████████████████████████████████████████████████████████████████████████████████████████████████████████████████████████| 100/100 [04:07<00:00,  2.48s/it]\n"
     ]
    }
   ],
   "source": [
    "# option 1: both players are no-regret learners\n",
    "# algorithm: hedge + propensity scoring\n",
    "\n",
    "T = 100\n",
    "\n",
    "# lender chooses r, lends to everyone of type H\n",
    "# chooses r\n",
    "# .. more complicated...\n",
    "\n",
    "\n",
    "# let r_bar be the highest rate any H borrower would accept\n",
    "r_bar = 0.5\n",
    "n = 10\n",
    "rs = np.linspace(0, 0.5, n)\n",
    "rng = np.random.default_rng()\n",
    "# for now: sample r_h, r_l indepedently\n",
    "U1 = {\n",
    "    'h': np.zeros(n), \n",
    "    'l': np.zeros(n)\n",
    "}\n",
    "U2 = {\n",
    "    'h': np.zeros(n), \n",
    "    'l': np.zeros(n)\n",
    "}\n",
    "\n",
    "U1s = []\n",
    "U2s = []\n",
    "\n",
    "eps = 1e-3\n",
    "def weights(U):\n",
    "    return (1-eps)**(-U)\n",
    "\n",
    "def dist(w):\n",
    "    return w / np.sum(w)\n",
    "\n",
    "def update_Us(U, u_t):\n",
    "    for type in U.keys():\n",
    "        U[type] = U[type] + u_t[type]\n",
    "    return U\n",
    "\n",
    "for t in tqdm(range(T)):\n",
    "    U1s.append(U1)\n",
    "    U2s.append(U2)\n",
    "    \n",
    "    br, l1, l2 = gen_signals_for_one_round()\n",
    "\n",
    "    u1_t = {\n",
    "        'h': np.zeros(n),\n",
    "        'l': np.zeros(n)\n",
    "    }\n",
    "    count1_t = {\n",
    "        'h': np.zeros(n),\n",
    "        'l': np.zeros(n)\n",
    "    }\n",
    "    u2_t = {\n",
    "        'h': np.zeros(n),\n",
    "        'l': np.zeros(n)\n",
    "    }\n",
    "    count2_t = {\n",
    "        'h': np.zeros(n),\n",
    "        'l': np.zeros(n)\n",
    "    }\n",
    "    for i, (b, l1_b, l2_b) in enumerate(zip(br, l1, l2)):\n",
    "        j1 = rng.choice(n, p=dist(weights(U1[l1_b])))\n",
    "        j2 = rng.choice(n, p=dist(weights(U2[l2_b])))\n",
    "\n",
    "        r1 = rs[j1]\n",
    "        r2 = rs[j2]\n",
    "        \n",
    "        u1, u2 = 0, 0\n",
    "\n",
    "        if r1 <= r2:\n",
    "            u1 = r1 if b == 'H' else -1\n",
    "        if r1 >= r2:\n",
    "            u2 = r2 if b == 'H' else -1\n",
    "        \n",
    "        if r1 == r2:\n",
    "            if r1 == r_bar:\n",
    "                u1, u2 = 0,0\n",
    "            else:\n",
    "                u1, u2 = u1 / 2, u2 / 2\n",
    "\n",
    "        # update u1_t\n",
    "        u1_t[l1_b][j1] = u1_t[l1_b][j1] + u1\n",
    "        count1_t[l1_b][j1] = count1_t[l1_b][j1] + 1\n",
    "\n",
    "        # update u2_t\n",
    "        u2_t[l2_b][j2] = u2_t[l2_b][j2] + u2\n",
    "        count2_t[l2_b][j2] = count2_t[l2_b][j2] + 1\n",
    "\n",
    "    u1t_avg = {}\n",
    "    for type in count1_t:\n",
    "        u1t_avg[type] = u1_t[type] / count1_t[type]\n",
    "\n",
    "    u2t_avg = {}\n",
    "    for type in count2_t:\n",
    "        u2t_avg[type] = u2_t[type] / count2_t[type]\n",
    "\n",
    "    # update policies using HEDGE\n",
    "    U1 = update_Us(u1t_avg, U1)\n",
    "    U2 = update_Us(u2t_avg, U2)"
   ]
  },
  {
   "cell_type": "code",
   "execution_count": 70,
   "metadata": {},
   "outputs": [],
   "source": [
    "U1_final = U1s[-1]\n",
    "U2_final = U2s[-1]"
   ]
  },
  {
   "cell_type": "code",
   "execution_count": 71,
   "metadata": {},
   "outputs": [
    {
     "name": "stdout",
     "output_type": "stream",
     "text": [
      "high dist [0.09916585 0.09964245 0.10001871 0.1002824  0.10043737 0.10048398\n",
      " 0.10041764 0.10024687 0.09996296 0.09934176]\n",
      "low dist [0.09709674 0.0978501  0.09855931 0.09923853 0.0998419  0.10042803\n",
      " 0.10100369 0.10150108 0.1019506  0.10253002]\n"
     ]
    }
   ],
   "source": [
    "print('high dist', dist(weights(U1['h'])))\n",
    "print('low dist', dist(weights(U1['l'])))"
   ]
  },
  {
   "cell_type": "code",
   "execution_count": 72,
   "metadata": {},
   "outputs": [
    {
     "name": "stdout",
     "output_type": "stream",
     "text": [
      "high dist [0.09917452 0.09965073 0.10002217 0.10028566 0.10043938 0.1004852\n",
      " 0.10041787 0.10024155 0.09995391 0.09932902]\n",
      "low dist [0.09721012 0.09794715 0.09864223 0.09925646 0.0998731  0.10046235\n",
      " 0.10095932 0.10144036 0.10183959 0.1023693 ]\n"
     ]
    }
   ],
   "source": [
    "print('high dist', dist(weights(U2['h'])))\n",
    "print('low dist', dist(weights(U2['l'])))"
   ]
  },
  {
   "cell_type": "code",
   "execution_count": null,
   "metadata": {},
   "outputs": [],
   "source": []
  },
  {
   "cell_type": "code",
   "execution_count": null,
   "metadata": {},
   "outputs": [],
   "source": []
  },
  {
   "cell_type": "code",
   "execution_count": null,
   "metadata": {},
   "outputs": [],
   "source": []
  }
 ],
 "metadata": {
  "kernelspec": {
   "display_name": "Python 3 (ipykernel)",
   "language": "python",
   "name": "python3"
  },
  "language_info": {
   "codemirror_mode": {
    "name": "ipython",
    "version": 3
   },
   "file_extension": ".py",
   "mimetype": "text/x-python",
   "name": "python",
   "nbconvert_exporter": "python",
   "pygments_lexer": "ipython3",
   "version": "3.11.5"
  }
 },
 "nbformat": 4,
 "nbformat_minor": 4
}
