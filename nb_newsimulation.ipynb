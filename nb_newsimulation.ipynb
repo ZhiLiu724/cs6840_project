{
 "cells": [
  {
   "cell_type": "markdown",
   "metadata": {},
   "source": [
    "## New simulation setup\n",
    "\n",
    "We assume that neither lender knows the fraction of H-type borrowers in the population, or how the signals are generated. They simply employ some learning algorithm, based on the utility of some action, and learn the best strategy.\n",
    "\n",
    "The market consists of a fraction $\\theta$ of H-type borrowers, and $1-\\theta$ of L-type borrowers. There are two lenders, 1 and 2, and each of them will receive a signal from each borrower. We let $p_{s_1, s_2}^{t}$ denote the probability that a borrower of true type $t\\in \\{L, H\\}$ will give a signal of $s_1$ to lender 1, and $s_2$ to lender $s_1$, where $s_1,s_2\\in \\{l, h\\}$."
   ]
  },
  {
   "cell_type": "code",
   "execution_count": 1,
   "metadata": {},
   "outputs": [],
   "source": [
    "import numpy as np"
   ]
  },
  {
   "cell_type": "markdown",
   "metadata": {},
   "source": [
    "### Constants\n",
    "\n",
    "Market size $N$, fraction of H-type borrower $\\theta$, and probabilities of signal generation.\n",
    "\n",
    "$$\n",
    "P^H = \\begin{array}{cc}\n",
    "p_{HH}^H, p_{HL}^H\\\\\n",
    "p_{LH}^H, p_{LL}^H\n",
    "\\end{array}\n",
    "$$\n",
    "\n",
    "$$\n",
    "P^L = \\begin{array}{cc}\n",
    "p_{HH}^L, p_{HL}^L\\\\\n",
    "p_{LH}^L, p_{LL}^L\n",
    "\\end{array}\n",
    "$$"
   ]
  },
  {
   "cell_type": "code",
   "execution_count": 21,
   "metadata": {},
   "outputs": [],
   "source": [
    "N = 1_000_000\n",
    "Theta = 0.9\n",
    "Borrower_types = ['H', 'L']\n",
    "Signals = ['hh', 'hl', 'lh', 'll']\n",
    "PH = np.array([[0.90, 0.03], \n",
    "               [0.02, 0.05]])\n",
    "PL = np.array([[0.10, 0.06],\n",
    "               [0.04, 0.80]])\n",
    "assert(PH.sum() == 1); assert(PL.sum() == 1)"
   ]
  },
  {
   "cell_type": "markdown",
   "metadata": {},
   "source": [
    "### Generating borrowers with true types"
   ]
  },
  {
   "cell_type": "code",
   "execution_count": 22,
   "metadata": {},
   "outputs": [
    {
     "data": {
      "text/plain": [
       "(array(['H', 'L'], dtype='<U1'), array([899561, 100439]))"
      ]
     },
     "execution_count": 22,
     "metadata": {},
     "output_type": "execute_result"
    }
   ],
   "source": [
    "Borrowers = np.random.choice(Borrower_types, size=N, p=[Theta, 1-Theta])\n",
    "np.unique(Borrowers, return_counts=True)"
   ]
  },
  {
   "cell_type": "markdown",
   "metadata": {},
   "source": [
    "### Generating signals"
   ]
  },
  {
   "cell_type": "code",
   "execution_count": null,
   "metadata": {},
   "outputs": [],
   "source": [
    "def signal(true_type, PH, PL):\n",
    "    if true_type == 'H':\n",
    "        return np.random.choice(Signals, p=PH)\n",
    "    elif true_type == 'L':\n",
    "        return np.random.choice(Signals, p=PL)\n",
    "    else:\n",
    "        raise ValueError"
   ]
  },
  {
   "cell_type": "code",
   "execution_count": null,
   "metadata": {},
   "outputs": [],
   "source": [
    "ph_1d, pl_1d = PH.reshape(-1), PL.reshape(-1)\n",
    "signals = [signal(b, ph_1d, pl_1d) for b in Borrowers]"
   ]
  },
  {
   "cell_type": "code",
   "execution_count": 28,
   "metadata": {},
   "outputs": [],
   "source": [
    "lender1_signals = [s[0] for s in signals]\n",
    "lender2_signals = [s[1] for s in signals]"
   ]
  },
  {
   "cell_type": "code",
   "execution_count": 29,
   "metadata": {},
   "outputs": [
    {
     "data": {
      "text/plain": [
       "((array(['h', 'l'], dtype='<U1'), array([852695, 147305])),\n",
       " (array(['h', 'l'], dtype='<U1'), array([841749, 158251])))"
      ]
     },
     "execution_count": 29,
     "metadata": {},
     "output_type": "execute_result"
    }
   ],
   "source": [
    "np.unique(lender1_signals, return_counts=True), np.unique(lender2_signals, return_counts=True)"
   ]
  },
  {
   "cell_type": "markdown",
   "metadata": {},
   "source": [
    "### Wrapper"
   ]
  },
  {
   "cell_type": "code",
   "execution_count": 30,
   "metadata": {},
   "outputs": [],
   "source": [
    "def gen_signals_for_one_round():\n",
    "    borrowers = np.random.choice(Borrower_types, size=N, p=[Theta, 1-Theta])\n",
    "    signals = [signal(b, ph_1d, pl_1d) for b in borrowers]\n",
    "    lender1_signals = [s[0] for s in signals]\n",
    "    lender2_signals = [s[1] for s in signals]\n",
    "    return borrowers, lender1_signals, lender2_signals"
   ]
  },
  {
   "cell_type": "code",
   "execution_count": 31,
   "metadata": {},
   "outputs": [],
   "source": [
    "br, l1, l2 = gen_signals_for_one_round()"
   ]
  },
  {
   "cell_type": "code",
   "execution_count": 32,
   "metadata": {},
   "outputs": [
    {
     "data": {
      "text/plain": [
       "((array(['H', 'L'], dtype='<U1'), array([900167,  99833])),\n",
       " (array(['h', 'l'], dtype='<U1'), array([853193, 146807])),\n",
       " (array(['h', 'l'], dtype='<U1'), array([842434, 157566])))"
      ]
     },
     "execution_count": 32,
     "metadata": {},
     "output_type": "execute_result"
    }
   ],
   "source": [
    "np.unique(br, return_counts=True), np.unique(l1, return_counts=True), np.unique(l2, return_counts=True)"
   ]
  },
  {
   "cell_type": "code",
   "execution_count": 37,
   "metadata": {},
   "outputs": [
    {
     "name": "stdout",
     "output_type": "stream",
     "text": [
      "Lender 1 expected number of h signals 853000.0\n",
      "Lender 2 expected number of h signals 842000.0\n"
     ]
    }
   ],
   "source": [
    "print('Lender 1 expected number of h signals', N*Theta*PH[0].sum() + N*(1-Theta)*PL[0].sum())\n",
    "print('Lender 2 expected number of h signals', N*Theta*PH[:,0].sum() + N*(1-Theta)*PL[:,0].sum())"
   ]
  }
 ],
 "metadata": {
  "kernelspec": {
   "display_name": "orie5355",
   "language": "python",
   "name": "python3"
  },
  "language_info": {
   "codemirror_mode": {
    "name": "ipython",
    "version": 3
   },
   "file_extension": ".py",
   "mimetype": "text/x-python",
   "name": "python",
   "nbconvert_exporter": "python",
   "pygments_lexer": "ipython3",
   "version": "3.12.7"
  }
 },
 "nbformat": 4,
 "nbformat_minor": 2
}
