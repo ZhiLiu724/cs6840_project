{
 "cells": [
  {
   "cell_type": "markdown",
   "metadata": {},
   "source": [
    "## New simulation setup\n",
    "\n",
    "We assume that neither lender knows the fraction of H-type borrowers in the population, or how the signals are generated. They simply employ some learning algorithm, based on the utility of some action, and learn the best strategy.\n",
    "\n",
    "The market consists of a fraction $\\theta$ of H-type borrowers, and $1-\\theta$ of L-type borrowers. There are two lenders, 1 and 2, and each of them will receive a signal from each borrower. We let $p_{s_1, s_2}^{t}$ denote the probability that a borrower of true type $t\\in \\{L, H\\}$ will give a signal of $s_1$ to lender 1, and $s_2$ to lender $s_1$, where $s_1,s_2\\in \\{l, h\\}$."
   ]
  },
  {
   "cell_type": "code",
   "execution_count": 1,
   "metadata": {},
   "outputs": [],
   "source": [
    "import numpy as np\n",
    "import matplotlib.pyplot as plt"
   ]
  },
  {
   "cell_type": "markdown",
   "metadata": {},
   "source": [
    "### Constants\n",
    "\n",
    "Market size $N$, fraction of H-type borrower $\\theta$, and probabilities of signal generation.\n",
    "\n",
    "$$\n",
    "P^H = \\begin{array}{cc}\n",
    "p_{HH}^H, p_{HL}^H\\\\\n",
    "p_{LH}^H, p_{LL}^H\n",
    "\\end{array}\n",
    "$$\n",
    "\n",
    "$$\n",
    "P^L = \\begin{array}{cc}\n",
    "p_{HH}^L, p_{HL}^L\\\\\n",
    "p_{LH}^L, p_{LL}^L\n",
    "\\end{array}\n",
    "$$"
   ]
  },
  {
   "cell_type": "code",
   "execution_count": 124,
   "metadata": {},
   "outputs": [],
   "source": [
    "N = 1000\n",
    "# Theta = 0.9\n",
    "Borrower_types = ['H', 'L']\n",
    "Signals = ['hh', 'hl', 'lh', 'll']\n",
    "\n",
    "phs = [\n",
    "    np.array([[1, 0.0], \n",
    "            [0.0, 0.0]]),\n",
    "    np.array([[0.90, 0.03], \n",
    "            [0.02, 0.05]]),\n",
    "    np.array([[0.80, 0.10], \n",
    "            [0.05, 0.05]]),\n",
    "    np.array([[0.70, 0.23], \n",
    "            [0.02, 0.05]]),\n",
    "    np.array([[0.90, 0.03], \n",
    "            [0.02, 0.05]])\n",
    "]\n",
    "pls = [\n",
    "    np.array([[0.05, 0.02],\n",
    "            [0.03, 0.90]]),\n",
    "    np.array([[0.05, 0.05],\n",
    "            [0.10, 0.80]]),\n",
    "    np.array([[0.05, 0.02],\n",
    "            [0.23, 0.70]]),\n",
    "    np.array([[0.02, 0.08],\n",
    "            [0.18, 0.72]]), # this one the signals are independent\n",
    "    np.array([[0.10, 0.06],\n",
    "            [0.04, 0.80]]) \n",
    "]\n",
    "Thetas = [0.9, 0.95, 0.97, 0.99, 0.9]"
   ]
  },
  {
   "cell_type": "code",
   "execution_count": null,
   "metadata": {},
   "outputs": [],
   "source": [
    "settings_index = 4\n",
    "\n",
    "PH = phs[settings_index]\n",
    "PL = phs[settings_index]\n",
    "Theta = Thetas[settings_index]\n",
    "\n",
    "assert(PH.sum() == 1); assert(PL.sum() == 1)"
   ]
  },
  {
   "cell_type": "markdown",
   "metadata": {},
   "source": [
    "### Generating borrowers with true types"
   ]
  },
  {
   "cell_type": "code",
   "execution_count": 125,
   "metadata": {},
   "outputs": [
    {
     "data": {
      "text/plain": [
       "(array(['H', 'L'], dtype='<U1'), array([899, 101]))"
      ]
     },
     "execution_count": 125,
     "metadata": {},
     "output_type": "execute_result"
    }
   ],
   "source": [
    "Borrowers = np.random.choice(Borrower_types, size=N, p=[Theta, 1-Theta])\n",
    "np.unique(Borrowers, return_counts=True)"
   ]
  },
  {
   "cell_type": "markdown",
   "metadata": {},
   "source": [
    "### Generating signals"
   ]
  },
  {
   "cell_type": "code",
   "execution_count": 126,
   "metadata": {},
   "outputs": [],
   "source": [
    "def signal(true_type, PH, PL):\n",
    "    if true_type == 'H':\n",
    "        return np.random.choice(Signals, p=PH)\n",
    "    elif true_type == 'L':\n",
    "        return np.random.choice(Signals, p=PL)\n",
    "    else:\n",
    "        raise ValueError"
   ]
  },
  {
   "cell_type": "code",
   "execution_count": 127,
   "metadata": {},
   "outputs": [],
   "source": [
    "ph_1d, pl_1d = PH.reshape(-1), PL.reshape(-1)\n",
    "signals = [signal(b, ph_1d, pl_1d) for b in Borrowers]"
   ]
  },
  {
   "cell_type": "code",
   "execution_count": 128,
   "metadata": {},
   "outputs": [],
   "source": [
    "lender1_signals = [s[0] for s in signals]\n",
    "lender2_signals = [s[1] for s in signals]"
   ]
  },
  {
   "cell_type": "code",
   "execution_count": 129,
   "metadata": {},
   "outputs": [
    {
     "data": {
      "text/plain": [
       "((array(['h', 'l'], dtype='<U1'), array([929,  71])),\n",
       " (array(['h', 'l'], dtype='<U1'), array([919,  81])))"
      ]
     },
     "execution_count": 129,
     "metadata": {},
     "output_type": "execute_result"
    }
   ],
   "source": [
    "np.unique(lender1_signals, return_counts=True), np.unique(lender2_signals, return_counts=True)"
   ]
  },
  {
   "cell_type": "markdown",
   "metadata": {},
   "source": [
    "### Wrapper"
   ]
  },
  {
   "cell_type": "code",
   "execution_count": 130,
   "metadata": {},
   "outputs": [],
   "source": [
    "def gen_signals_for_one_round():\n",
    "    borrowers = np.random.choice(Borrower_types, size=N, p=[Theta, 1-Theta])\n",
    "    signals = [signal(b, ph_1d, pl_1d) for b in borrowers]\n",
    "    lender1_signals = [s[0] for s in signals]\n",
    "    lender2_signals = [s[1] for s in signals]\n",
    "    return borrowers, lender1_signals, lender2_signals"
   ]
  },
  {
   "cell_type": "code",
   "execution_count": 131,
   "metadata": {},
   "outputs": [],
   "source": [
    "br, l1, l2 = gen_signals_for_one_round()"
   ]
  },
  {
   "cell_type": "code",
   "execution_count": 132,
   "metadata": {},
   "outputs": [
    {
     "data": {
      "text/plain": [
       "((array(['H', 'L'], dtype='<U1'), array([901,  99])),\n",
       " (array(['h', 'l'], dtype='<U1'), array([929,  71])),\n",
       " (array(['h', 'l'], dtype='<U1'), array([922,  78])))"
      ]
     },
     "execution_count": 132,
     "metadata": {},
     "output_type": "execute_result"
    }
   ],
   "source": [
    "np.unique(br, return_counts=True), np.unique(l1, return_counts=True), np.unique(l2, return_counts=True)"
   ]
  },
  {
   "cell_type": "code",
   "execution_count": 133,
   "metadata": {},
   "outputs": [
    {
     "name": "stdout",
     "output_type": "stream",
     "text": [
      "Lender 1 expected number of h signals 930.0\n",
      "Lender 2 expected number of h signals 920.0\n"
     ]
    }
   ],
   "source": [
    "print('Lender 1 expected number of h signals', N*Theta*PH[0].sum() + N*(1-Theta)*PL[0].sum())\n",
    "print('Lender 2 expected number of h signals', N*Theta*PH[:,0].sum() + N*(1-Theta)*PL[:,0].sum())"
   ]
  },
  {
   "cell_type": "code",
   "execution_count": 134,
   "metadata": {},
   "outputs": [],
   "source": [
    "from tqdm import tqdm"
   ]
  },
  {
   "cell_type": "code",
   "execution_count": 135,
   "metadata": {},
   "outputs": [
    {
     "name": "stderr",
     "output_type": "stream",
     "text": [
      "100%|██████████| 200/200 [00:06<00:00, 29.11it/s]\n"
     ]
    }
   ],
   "source": [
    "# option 1: both players are no-regret learners\n",
    "# algorithm: hedge + propensity scoring\n",
    "\n",
    "T = 200\n",
    "\n",
    "# lender chooses r, lends to everyone of type H\n",
    "# chooses r\n",
    "# .. more complicated...\n",
    "\n",
    "\n",
    "# let r_bar be the highest rate any H borrower would accept\n",
    "r_bar = 1\n",
    "n = 11\n",
    "max_r = 0.2\n",
    "rs = np.linspace(0, max_r, n)\n",
    "rng = np.random.default_rng()\n",
    "# for now: sample r_h, r_l indepedently\n",
    "\n",
    "\n",
    "\n",
    "W1 = {\n",
    "    'h': np.ones(n), \n",
    "    'l': np.ones(n)\n",
    "}\n",
    "W2 = {\n",
    "    'h': np.ones(n), \n",
    "    'l': np.ones(n)\n",
    "}\n",
    "W1s = []\n",
    "W2s = []\n",
    "\n",
    "eps = 1e-2\n",
    "def weight(c):\n",
    "    return (1-eps)**c\n",
    "\n",
    "def dist(w):\n",
    "    return w / w.sum()\n",
    "\n",
    "def update_Ws(W, c_t):\n",
    "    for type in W.keys():\n",
    "        w = weight(c_t[type])\n",
    "        W[type] = W[type] *  w\n",
    "    return W\n",
    "\n",
    "for t in tqdm(range(T)):\n",
    "    br, l1, l2 = gen_signals_for_one_round()\n",
    "\n",
    "    c1_t = {\n",
    "        'h': np.zeros(n),\n",
    "        'l': np.zeros(n)\n",
    "    }\n",
    "    count1_t = {\n",
    "        'h': np.zeros(n),\n",
    "        'l': np.zeros(n)\n",
    "    }\n",
    "    c2_t = {\n",
    "        'h': np.zeros(n),\n",
    "        'l': np.zeros(n)\n",
    "    }\n",
    "    count2_t = {\n",
    "        'h': np.zeros(n),\n",
    "        'l': np.zeros(n)\n",
    "    }\n",
    "    for i, (b, l1_b, l2_b) in enumerate(zip(br, l1, l2)):\n",
    "        j1 = rng.choice(n, p=dist(W1[l1_b]))\n",
    "        j2 = rng.choice(n, p=dist(W2[l2_b]))\n",
    "\n",
    "        r1 = rs[j1]\n",
    "        r2 = rs[j2]\n",
    "        \n",
    "        c1, c2 = 0, 0\n",
    "\n",
    "        if (r1 < r2) or (r2 == 0):\n",
    "            c1 = -r1 if b == 'H' else 1\n",
    "        if (r1 > r2) or (r1 == 0):\n",
    "            c2 = -r2 if b == 'H' else 1\n",
    "\n",
    "        if r1 == r2:\n",
    "            if r1 == 0:\n",
    "                c1, c2 = 0, 0\n",
    "            else:\n",
    "                c1, c2 = -r1 / 2, -r2 / 2 if b == 'H' else 1 / 2\n",
    "\n",
    "        # c1 = c1 + 1\n",
    "        # c2 = c2 + 1\n",
    "        # cpdate c1_t\n",
    "        c1_t[l1_b][j1] = c1_t[l1_b][j1] + c1\n",
    "        count1_t[l1_b][j1] = count1_t[l1_b][j1] + 1\n",
    "\n",
    "        # cpdate c2_t\n",
    "        c2_t[l2_b][j2] = c2_t[l2_b][j2] + c2\n",
    "        count2_t[l2_b][j2] = count2_t[l2_b][j2] + 1\n",
    "\n",
    "    c1t_avg = {}\n",
    "    for type in count1_t:\n",
    "        c1t_avg[type] = np.divide(c1_t[type], count1_t[type], out=np.zeros_like(c1_t[type]), where= count1_t[type]!=0)\n",
    "\n",
    "    c2t_avg = {}\n",
    "    for type in count2_t:\n",
    "        c2t_avg[type] = np.divide(c2_t[type], count2_t[type], out=np.zeros_like(c2_t[type]), where= count2_t[type]!=0)\n",
    "    \n",
    "    # update policies using HEDGE\n",
    "    W1 = update_Ws(W1, c1t_avg)\n",
    "    W2 = update_Ws(W2, c2t_avg)\n",
    "\n",
    "    W1s.append(W1)\n",
    "    W2s.append(W2)\n",
    "    \n",
    "    # print(dist(W1['h']))"
   ]
  },
  {
   "cell_type": "code",
   "execution_count": 136,
   "metadata": {},
   "outputs": [],
   "source": [
    "# get the MW probability of selecting r=1\n",
    "last_h1s = []\n",
    "last_h2s = []\n",
    "\n",
    "last_l1s = []\n",
    "last_l2s = []\n",
    "for W1_i, W2_i in zip(W1s, W2s):\n",
    "    last_h1s.append(dist(W1_i['h'])[-1])\n",
    "    last_h2s.append(dist(W2_i['h'])[-1])\n",
    "\n",
    "    last_l1s.append(dist(W1_i['l'])[-1])\n",
    "    last_l2s.append(dist(W2_i['l'])[-1])\n",
    "\n",
    "# why is this all the same value? based on what I'm printing above, they should all be different...\n",
    "# print(last_h1s)"
   ]
  },
  {
   "cell_type": "code",
   "execution_count": 137,
   "metadata": {},
   "outputs": [
    {
     "data": {
      "image/png": "[encoded data removed]",
      "text/plain": [
       "<Figure size 1000x500 with 2 Axes>"
      ]
     },
     "metadata": {},
     "output_type": "display_data"
    }
   ],
   "source": [
    "fig, ax = plt.subplots(1, 2, figsize=(10, 5))\n",
    "\n",
    "ax[0].bar(rs, dist(W1['h']), alpha=0.5, width = max_r/(n-1), label='Lender 1 - h offers')\n",
    "ax[0].bar(rs, dist(W1['l']), alpha=0.5, width = max_r/(n-1), label='Lender 1 - l offers')\n",
    "\n",
    "ax[0].legend()\n",
    "\n",
    "ax[1].bar(rs, dist(W2['h']), alpha=0.5, width = max_r/(n-1), label='Lender 2 - h offers')\n",
    "ax[1].bar(rs, dist(W2['l']), alpha=0.5, width = max_r/(n-1), label='Lender 2 - l offers')\n",
    "ax[1].legend()\n",
    "\n",
    "# ylabel\n",
    "ax[0].set_ylabel('Density')\n",
    "\n",
    "# xlabel\n",
    "ax[0].set_xlabel('Interest rate')\n",
    "ax[1].set_xlabel('Interest rate')\n",
    "plt.savefig(f'plots/MW_lender_offers_{str(settings_index)}.png')\n",
    "plt.show()"
   ]
  },
  {
   "cell_type": "code",
   "execution_count": null,
   "metadata": {},
   "outputs": [],
   "source": []
  },
  {
   "cell_type": "code",
   "execution_count": null,
   "metadata": {},
   "outputs": [],
   "source": []
  }
 ],
 "metadata": {
  "kernelspec": {
   "display_name": "base",
   "language": "python",
   "name": "python3"
  },
  "language_info": {
   "codemirror_mode": {
    "name": "ipython",
    "version": 3
   },
   "file_extension": ".py",
   "mimetype": "text/x-python",
   "name": "python",
   "nbconvert_exporter": "python",
   "pygments_lexer": "ipython3",
   "version": "3.11.5"
  }
 },
 "nbformat": 4,
 "nbformat_minor": 4
}
